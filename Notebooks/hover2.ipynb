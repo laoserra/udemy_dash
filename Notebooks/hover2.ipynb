{
 "cells": [
  {
   "cell_type": "code",
   "execution_count": 1,
   "metadata": {},
   "outputs": [],
   "source": [
    "#######\n",
    "# This makes a 3x3 scatterplot of wheels.csv, and sends\n",
    "# the result of hover to the screen as a JSON object.\n",
    "######"
   ]
  },
  {
   "cell_type": "code",
   "execution_count": 2,
   "metadata": {},
   "outputs": [],
   "source": [
    "# import libraries\n",
    "import dash\n",
    "import dash_core_components as dcc\n",
    "import dash_html_components as html\n",
    "from dash.dependencies import Input, Output\n",
    "import plotly.graph_objs as go\n",
    "import pandas as pd\n",
    "import json\n",
    "import base64"
   ]
  },
  {
   "cell_type": "code",
   "execution_count": 3,
   "metadata": {},
   "outputs": [],
   "source": [
    "# Launch the app\n",
    "app = dash.Dash()"
   ]
  },
  {
   "cell_type": "code",
   "execution_count": 4,
   "metadata": {},
   "outputs": [
    {
     "data": {
      "text/html": [
       "<div>\n",
       "<style scoped>\n",
       "    .dataframe tbody tr th:only-of-type {\n",
       "        vertical-align: middle;\n",
       "    }\n",
       "\n",
       "    .dataframe tbody tr th {\n",
       "        vertical-align: top;\n",
       "    }\n",
       "\n",
       "    .dataframe thead th {\n",
       "        text-align: right;\n",
       "    }\n",
       "</style>\n",
       "<table border=\"1\" class=\"dataframe\">\n",
       "  <thead>\n",
       "    <tr style=\"text-align: right;\">\n",
       "      <th></th>\n",
       "      <th>wheels</th>\n",
       "      <th>color</th>\n",
       "      <th>image</th>\n",
       "    </tr>\n",
       "  </thead>\n",
       "  <tbody>\n",
       "    <tr>\n",
       "      <th>0</th>\n",
       "      <td>1</td>\n",
       "      <td>red</td>\n",
       "      <td>redunicycle.jpg</td>\n",
       "    </tr>\n",
       "    <tr>\n",
       "      <th>1</th>\n",
       "      <td>1</td>\n",
       "      <td>blue</td>\n",
       "      <td>blueunicycle.jpg</td>\n",
       "    </tr>\n",
       "    <tr>\n",
       "      <th>2</th>\n",
       "      <td>1</td>\n",
       "      <td>yellow</td>\n",
       "      <td>yellowunicycle.jpg</td>\n",
       "    </tr>\n",
       "    <tr>\n",
       "      <th>3</th>\n",
       "      <td>2</td>\n",
       "      <td>red</td>\n",
       "      <td>redbicycle.jpg</td>\n",
       "    </tr>\n",
       "    <tr>\n",
       "      <th>4</th>\n",
       "      <td>2</td>\n",
       "      <td>blue</td>\n",
       "      <td>bluemotorcycle.jpg</td>\n",
       "    </tr>\n",
       "  </tbody>\n",
       "</table>\n",
       "</div>"
      ],
      "text/plain": [
       "   wheels   color               image\n",
       "0       1     red     redunicycle.jpg\n",
       "1       1    blue    blueunicycle.jpg\n",
       "2       1  yellow  yellowunicycle.jpg\n",
       "3       2     red      redbicycle.jpg\n",
       "4       2    blue  bluemotorcycle.jpg"
      ]
     },
     "execution_count": 4,
     "metadata": {},
     "output_type": "execute_result"
    }
   ],
   "source": [
    "# load the data\n",
    "df = pd.read_csv('../Data/wheels.csv')\n",
    "df.head()"
   ]
  },
  {
   "cell_type": "code",
   "execution_count": 5,
   "metadata": {},
   "outputs": [],
   "source": [
    "# define function to read images\n",
    "def encode_image(image_file):\n",
    "    encoded = base64.b64encode(open(image_file, 'rb').read())\n",
    "    \n",
    "    return 'data:image/png;base64,{}'.format(encoded.decode())"
   ]
  },
  {
   "cell_type": "code",
   "execution_count": 6,
   "metadata": {},
   "outputs": [],
   "source": [
    "# build the layout of the app\n",
    "app.layout = html.Div([\n",
    "    html.Div([\n",
    "        dcc.Graph(\n",
    "            id='wheels-plot',\n",
    "            figure={\n",
    "                'data': [\n",
    "                    go.Scatter(\n",
    "                        x=df['color'],\n",
    "                        y=df['wheels'],\n",
    "                        mode='markers',\n",
    "                        marker={\n",
    "                            'size': 12,\n",
    "                            'color': 'rgb(51,204,153)',\n",
    "                            'line': {'width': 2}\n",
    "                        }\n",
    "                    )\n",
    "                ],\n",
    "                'layout': go.Layout(\n",
    "                    title = 'Wheels & Colors Scatterplot',\n",
    "                    xaxis = {'title': 'Color'},\n",
    "                    yaxis = {'title': '# of Wheels', 'nticks': 3}, # 3 lines\n",
    "                    hovermode='closest'\n",
    "                )\n",
    "            }\n",
    "        )\n",
    "    ], style={'width':'30%', 'float':'left'}),\n",
    "    html.Div([\n",
    "        html.Img(\n",
    "            id='hover-image',\n",
    "            src='children',\n",
    "            height=500\n",
    "        )\n",
    "    ], style={'paddingTop':70}) #output\n",
    "])"
   ]
  },
  {
   "cell_type": "code",
   "execution_count": 7,
   "metadata": {},
   "outputs": [],
   "source": [
    "# define the callback\n",
    "@app.callback(\n",
    "    Output('hover-image', 'src'),\n",
    "    [Input('wheels-plot', 'hoverData')]) #hoverData is a property dcc.Graph\n",
    "def callback_image(hover_on_Data):\n",
    "    wheel=hover_on_Data['points'][0]['y']\n",
    "    color=hover_on_Data['points'][0]['x']\n",
    "    path = '../Data/Images/'\n",
    "    image_name = df[(df['wheels']==wheel) \n",
    "                    & (df['color']==color)]['image'].values[0]\n",
    "    \n",
    "    return encode_image(path + image_name)"
   ]
  },
  {
   "cell_type": "code",
   "execution_count": 8,
   "metadata": {},
   "outputs": [
    {
     "name": "stdout",
     "output_type": "stream",
     "text": [
      " * Serving Flask app \"dash\" (lazy loading)\n",
      " * Environment: production\n",
      "   WARNING: This is a development server. Do not use it in a production deployment.\n",
      "   Use a production WSGI server instead.\n",
      " * Debug mode: off\n"
     ]
    },
    {
     "name": "stderr",
     "output_type": "stream",
     "text": [
      " * Running on http://127.0.0.1:8050/ (Press CTRL+C to quit)\n",
      "127.0.0.1 - - [27/Jan/2020 18:35:12] \"GET / HTTP/1.1\" 200 -\n",
      "127.0.0.1 - - [27/Jan/2020 18:35:12] \"GET /_dash-layout HTTP/1.1\" 200 -\n",
      "127.0.0.1 - - [27/Jan/2020 18:35:12] \"GET /_dash-dependencies HTTP/1.1\" 200 -\n",
      "[2020-01-27 18:35:12,946] ERROR in app: Exception on /_dash-update-component [POST]\n",
      "Traceback (most recent call last):\n",
      "  File \"/home/ls283h/python-virtual-environments/udemy_dash/lib/python3.6/site-packages/flask/app.py\", line 2446, in wsgi_app\n",
      "    response = self.full_dispatch_request()\n",
      "  File \"/home/ls283h/python-virtual-environments/udemy_dash/lib/python3.6/site-packages/flask/app.py\", line 1951, in full_dispatch_request\n",
      "    rv = self.handle_user_exception(e)\n",
      "  File \"/home/ls283h/python-virtual-environments/udemy_dash/lib/python3.6/site-packages/flask/app.py\", line 1820, in handle_user_exception\n",
      "    reraise(exc_type, exc_value, tb)\n",
      "  File \"/home/ls283h/python-virtual-environments/udemy_dash/lib/python3.6/site-packages/flask/_compat.py\", line 39, in reraise\n",
      "    raise value\n",
      "  File \"/home/ls283h/python-virtual-environments/udemy_dash/lib/python3.6/site-packages/flask/app.py\", line 1949, in full_dispatch_request\n",
      "    rv = self.dispatch_request()\n",
      "  File \"/home/ls283h/python-virtual-environments/udemy_dash/lib/python3.6/site-packages/flask/app.py\", line 1935, in dispatch_request\n",
      "    return self.view_functions[rule.endpoint](**req.view_args)\n",
      "  File \"/home/ls283h/python-virtual-environments/udemy_dash/lib/python3.6/site-packages/dash/dash.py\", line 556, in dispatch\n",
      "    return self.callback_map[target_id]['callback'](*args)\n",
      "  File \"/home/ls283h/python-virtual-environments/udemy_dash/lib/python3.6/site-packages/dash/dash.py\", line 513, in add_context\n",
      "    output_value = func(*args, **kwargs)\n",
      "  File \"<ipython-input-7-a8b4675d7792>\", line 6, in callback_image\n",
      "    wheel=hover_on_Data['points'][0]['y']\n",
      "TypeError: 'NoneType' object is not subscriptable\n",
      "127.0.0.1 - - [27/Jan/2020 18:35:12] \"POST /_dash-update-component HTTP/1.1\" 500 -\n",
      "127.0.0.1 - - [27/Jan/2020 18:35:12] \"GET /children HTTP/1.1\" 200 -\n",
      "127.0.0.1 - - [27/Jan/2020 18:35:17] \"POST /_dash-update-component HTTP/1.1\" 200 -\n",
      "127.0.0.1 - - [27/Jan/2020 18:35:23] \"POST /_dash-update-component HTTP/1.1\" 200 -\n",
      "127.0.0.1 - - [27/Jan/2020 18:35:24] \"POST /_dash-update-component HTTP/1.1\" 200 -\n",
      "127.0.0.1 - - [27/Jan/2020 18:35:26] \"POST /_dash-update-component HTTP/1.1\" 200 -\n",
      "127.0.0.1 - - [27/Jan/2020 18:36:13] \"POST /_dash-update-component HTTP/1.1\" 200 -\n",
      "127.0.0.1 - - [27/Jan/2020 18:36:14] \"POST /_dash-update-component HTTP/1.1\" 200 -\n",
      "127.0.0.1 - - [27/Jan/2020 18:36:17] \"POST /_dash-update-component HTTP/1.1\" 200 -\n",
      "127.0.0.1 - - [27/Jan/2020 18:36:18] \"POST /_dash-update-component HTTP/1.1\" 200 -\n",
      "127.0.0.1 - - [27/Jan/2020 18:36:19] \"POST /_dash-update-component HTTP/1.1\" 200 -\n",
      "127.0.0.1 - - [27/Jan/2020 18:36:19] \"POST /_dash-update-component HTTP/1.1\" 200 -\n",
      "127.0.0.1 - - [27/Jan/2020 18:38:57] \"POST /_dash-update-component HTTP/1.1\" 200 -\n"
     ]
    }
   ],
   "source": [
    "# Add the server clause:\n",
    "if __name__ == '__main__':\n",
    "    app.run_server()"
   ]
  },
  {
   "cell_type": "code",
   "execution_count": null,
   "metadata": {},
   "outputs": [],
   "source": []
  }
 ],
 "metadata": {
  "kernelspec": {
   "display_name": "Python 3",
   "language": "python",
   "name": "python3"
  },
  "language_info": {
   "codemirror_mode": {
    "name": "ipython",
    "version": 3
   },
   "file_extension": ".py",
   "mimetype": "text/x-python",
   "name": "python",
   "nbconvert_exporter": "python",
   "pygments_lexer": "ipython3",
   "version": "3.6.9"
  }
 },
 "nbformat": 4,
 "nbformat_minor": 4
}
