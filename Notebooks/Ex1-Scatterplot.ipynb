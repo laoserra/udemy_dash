{
 "cells": [
  {
   "cell_type": "code",
   "execution_count": 25,
   "metadata": {},
   "outputs": [],
   "source": [
    "#######\n",
    "# Objective: Create a scatterplot of 1000 random data points.\n",
    "# x-axis values should come from a normal distribution using\n",
    "# np.random.randn(1000)\n",
    "# y-axis values should come from a uniform distribution over [0,1) using\n",
    "# np.random.rand(1000)\n",
    "######"
   ]
  },
  {
   "cell_type": "code",
   "execution_count": 26,
   "metadata": {},
   "outputs": [],
   "source": [
    "# Perform imports here:\n",
    "import plotly.offline as pyo\n",
    "import plotly.graph_objs as go\n",
    "import numpy as np\n",
    "\n",
    "random_x = np.random.randn(1000)\n",
    "random_y = np.random.rand(1000)"
   ]
  },
  {
   "cell_type": "code",
   "execution_count": 27,
   "metadata": {},
   "outputs": [],
   "source": [
    "# Define a data variable\n",
    "data = [go.Scatter(x=random_x, y=random_y, mode='markers')]"
   ]
  },
  {
   "cell_type": "code",
   "execution_count": 28,
   "metadata": {},
   "outputs": [],
   "source": [
    "# Define the layout\n",
    "layout = go.Layout(title='Hello first scatterplot',\n",
    "                   xaxis=dict(title='normal distribution'),\n",
    "                   yaxis=dict(title='uniform distribution'),\n",
    "                   hovermode='closest')"
   ]
  },
  {
   "cell_type": "code",
   "execution_count": 29,
   "metadata": {},
   "outputs": [
    {
     "data": {
      "text/plain": [
       "'file:///home/ls283h/Work/Courses/Plotly-Dashboards-with-Dash/1-02E-ScatterplotExercises/scatter_LS.html'"
      ]
     },
     "execution_count": 29,
     "metadata": {},
     "output_type": "execute_result"
    }
   ],
   "source": [
    "# Create a fig from data and layout, and plot the fig\n",
    "fig = go.Figure(data=data, layout=layout)\n",
    "pyo.plot(fig, filename='scatter_LS.html')"
   ]
  }
 ],
 "metadata": {
  "kernelspec": {
   "display_name": "Python 3",
   "language": "python",
   "name": "python3"
  },
  "language_info": {
   "codemirror_mode": {
    "name": "ipython",
    "version": 3
   },
   "file_extension": ".py",
   "mimetype": "text/x-python",
   "name": "python",
   "nbconvert_exporter": "python",
   "pygments_lexer": "ipython3",
   "version": "3.6.9"
  }
 },
 "nbformat": 4,
 "nbformat_minor": 4
}
