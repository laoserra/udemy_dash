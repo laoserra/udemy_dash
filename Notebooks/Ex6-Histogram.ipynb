{
 "cells": [
  {
   "cell_type": "code",
   "execution_count": 7,
   "metadata": {},
   "outputs": [
    {
     "data": {
      "text/plain": [
       "'file:///home/ls283h/Work/Courses/Plotly-Dashboards-with-Dash/1-07E-HistogramExercises/temp-plot.html'"
      ]
     },
     "execution_count": 7,
     "metadata": {},
     "output_type": "execute_result"
    }
   ],
   "source": [
    "#######\n",
    "# Objective: Create a histogram that plots the 'length' field\n",
    "# from the Abalone dataset (../data/abalone.csv).\n",
    "# Set the range from 0 to 1, with a bin size of 0.02\n",
    "######\n",
    "\n",
    "# Perform imports here:\n",
    "import plotly.offline as pyo\n",
    "import plotly.graph_objs as go\n",
    "import pandas as pd\n",
    "\n",
    "\n",
    "# create a DataFrame from the .csv file:\n",
    "df = pd.read_csv('../Data/abalone.csv')\n",
    "\n",
    "# create a data variable:\n",
    "data = [go.Histogram(x=df['length'], xbins=dict(start=0, end=1, size=0.02))]\n",
    "\n",
    "\n",
    "\n",
    "\n",
    "# add a layout\n",
    "layout = go.Layout(title='Shell length fro abalone dataset')\n",
    "\n",
    "\n",
    "\n",
    "# create a fig from data & layout, and plot the fig\n",
    "fig = go.Figure(data=data, layout=layout)\n",
    "pyo.plot(fig)"
   ]
  },
  {
   "cell_type": "code",
   "execution_count": null,
   "metadata": {},
   "outputs": [],
   "source": []
  }
 ],
 "metadata": {
  "kernelspec": {
   "display_name": "Python 3",
   "language": "python",
   "name": "python3"
  },
  "language_info": {
   "codemirror_mode": {
    "name": "ipython",
    "version": 3
   },
   "file_extension": ".py",
   "mimetype": "text/x-python",
   "name": "python",
   "nbconvert_exporter": "python",
   "pygments_lexer": "ipython3",
   "version": "3.6.9"
  }
 },
 "nbformat": 4,
 "nbformat_minor": 4
}
