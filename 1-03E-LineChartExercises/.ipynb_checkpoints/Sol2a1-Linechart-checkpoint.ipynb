{
 "cells": [
  {
   "cell_type": "code",
   "execution_count": null,
   "metadata": {},
   "outputs": [],
   "source": [
    "#######\n",
    "# Objective: Using the file 2010YumaAZ.csv, develop a Line Chart\n",
    "# that plots seven days worth of temperature data on one graph.\n",
    "# You can use a for loop to assign each day to its own trace.\n",
    "######"
   ]
  },
  {
   "cell_type": "code",
   "execution_count": 1,
   "metadata": {},
   "outputs": [],
   "source": [
    "# Perform imports here:\n",
    "import plotly.offline as pyo\n",
    "import plotly.graph_objs as go\n",
    "import pandas as pd"
   ]
  },
  {
   "cell_type": "code",
   "execution_count": 3,
   "metadata": {},
   "outputs": [
    {
     "data": {
      "text/html": [
       "<div>\n",
       "<style scoped>\n",
       "    .dataframe tbody tr th:only-of-type {\n",
       "        vertical-align: middle;\n",
       "    }\n",
       "\n",
       "    .dataframe tbody tr th {\n",
       "        vertical-align: top;\n",
       "    }\n",
       "\n",
       "    .dataframe thead th {\n",
       "        text-align: right;\n",
       "    }\n",
       "</style>\n",
       "<table border=\"1\" class=\"dataframe\">\n",
       "  <thead>\n",
       "    <tr style=\"text-align: right;\">\n",
       "      <th></th>\n",
       "      <th>LST_DATE</th>\n",
       "      <th>DAY</th>\n",
       "      <th>LST_TIME</th>\n",
       "      <th>T_HR_AVG</th>\n",
       "    </tr>\n",
       "  </thead>\n",
       "  <tbody>\n",
       "    <tr>\n",
       "      <th>0</th>\n",
       "      <td>20100601</td>\n",
       "      <td>TUESDAY</td>\n",
       "      <td>0:00</td>\n",
       "      <td>25.2</td>\n",
       "    </tr>\n",
       "    <tr>\n",
       "      <th>1</th>\n",
       "      <td>20100601</td>\n",
       "      <td>TUESDAY</td>\n",
       "      <td>1:00</td>\n",
       "      <td>24.1</td>\n",
       "    </tr>\n",
       "    <tr>\n",
       "      <th>2</th>\n",
       "      <td>20100601</td>\n",
       "      <td>TUESDAY</td>\n",
       "      <td>2:00</td>\n",
       "      <td>24.4</td>\n",
       "    </tr>\n",
       "    <tr>\n",
       "      <th>3</th>\n",
       "      <td>20100601</td>\n",
       "      <td>TUESDAY</td>\n",
       "      <td>3:00</td>\n",
       "      <td>24.9</td>\n",
       "    </tr>\n",
       "    <tr>\n",
       "      <th>4</th>\n",
       "      <td>20100601</td>\n",
       "      <td>TUESDAY</td>\n",
       "      <td>4:00</td>\n",
       "      <td>22.8</td>\n",
       "    </tr>\n",
       "  </tbody>\n",
       "</table>\n",
       "</div>"
      ],
      "text/plain": [
       "   LST_DATE      DAY LST_TIME  T_HR_AVG\n",
       "0  20100601  TUESDAY     0:00      25.2\n",
       "1  20100601  TUESDAY     1:00      24.1\n",
       "2  20100601  TUESDAY     2:00      24.4\n",
       "3  20100601  TUESDAY     3:00      24.9\n",
       "4  20100601  TUESDAY     4:00      22.8"
      ]
     },
     "execution_count": 3,
     "metadata": {},
     "output_type": "execute_result"
    }
   ],
   "source": [
    "# Create a pandas DataFrame from 2010YumaAZ.csv\n",
    "df = pd.read_csv('../Data/2010YumaAZ.csv')\n",
    "days = ['TUESDAY','WEDNESDAY','THURSDAY','FRIDAY','SATURDAY','SUNDAY','MONDAY']\n",
    "\n",
    "df.head()"
   ]
  },
  {
   "cell_type": "code",
   "execution_count": 26,
   "metadata": {},
   "outputs": [
    {
     "data": {
      "text/plain": [
       "144    30.9\n",
       "145    28.7\n",
       "146    26.9\n",
       "147    25.2\n",
       "148    24.1\n",
       "149    24.3\n",
       "150    23.4\n",
       "151    25.7\n",
       "152    28.5\n",
       "153    30.7\n",
       "154    32.5\n",
       "155    34.1\n",
       "156    36.1\n",
       "157    37.6\n",
       "158    39.0\n",
       "159    40.2\n",
       "160    40.3\n",
       "161    40.2\n",
       "162    40.1\n",
       "163    39.4\n",
       "164    38.5\n",
       "165    37.0\n",
       "166    34.7\n",
       "167    32.6\n",
       "Name: T_HR_AVG, dtype: float64"
      ]
     },
     "execution_count": 26,
     "metadata": {},
     "output_type": "execute_result"
    }
   ],
   "source": [
    "#df[df['DAY']=='TUESDAY']['LST_TIME']\n",
    "#df.loc[df['DAY']==day, 'T_HR_AVG']"
   ]
  },
  {
   "cell_type": "code",
   "execution_count": 15,
   "metadata": {},
   "outputs": [],
   "source": [
    "# Use a for loop (or list comprehension to create traces for the data list)\n",
    "data = []\n",
    "\n",
    "for day in days:\n",
    "    # What should go inside this Scatter call?\n",
    "    trace = go.Scatter(x=df['LST_TIME'],\n",
    "                       y=df[df['DAY']==day]['T_HR_AVG'], #== df.loc[df['DAY']==day, 'T_HR_AVG']\n",
    "                       mode='lines',\n",
    "                       name=day)\n",
    "    data.append(trace)"
   ]
  },
  {
   "cell_type": "code",
   "execution_count": 18,
   "metadata": {},
   "outputs": [],
   "source": [
    "# Define the layout\n",
    "layout = go.Layout(title='Average temperature per day of the week')"
   ]
  },
  {
   "cell_type": "code",
   "execution_count": 19,
   "metadata": {},
   "outputs": [
    {
     "data": {
      "text/plain": [
       "'file:///home/ls283h/Work/Courses/Plotly-Dashboards-with-Dash/1-03E-LineChartExercises/temp-plot.html'"
      ]
     },
     "execution_count": 19,
     "metadata": {},
     "output_type": "execute_result"
    }
   ],
   "source": [
    "# Create a fig from data and layout, and plot the fig\n",
    "fig = go.Figure(data=data, layout=layout)\n",
    "pyo.plot(fig)"
   ]
  }
 ],
 "metadata": {
  "kernelspec": {
   "display_name": "Python 3",
   "language": "python",
   "name": "python3"
  },
  "language_info": {
   "codemirror_mode": {
    "name": "ipython",
    "version": 3
   },
   "file_extension": ".py",
   "mimetype": "text/x-python",
   "name": "python",
   "nbconvert_exporter": "python",
   "pygments_lexer": "ipython3",
   "version": "3.6.9"
  }
 },
 "nbformat": 4,
 "nbformat_minor": 4
}
